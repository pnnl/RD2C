{
 "cells": [
  {
   "cell_type": "code",
   "execution_count": 437,
   "outputs": [],
   "source": [
    "## Used Code From https://www.kaggle.com/code/timgoodfellow/nsl-kdd-explorations to get NSL-KDD setup"
   ],
   "metadata": {
    "collapsed": false,
    "pycharm": {
     "name": "#%%\n"
    }
   }
  },
  {
   "cell_type": "code",
   "execution_count": 438,
   "outputs": [],
   "source": [
    "import pandas as pd\n",
    "import tensorflow as tf\n",
    "import numpy as np\n",
    "from mpi4py import MPI"
   ],
   "metadata": {
    "collapsed": false,
    "pycharm": {
     "name": "#%%\n"
    }
   }
  },
  {
   "cell_type": "code",
   "execution_count": 439,
   "outputs": [],
   "source": [
    "# Package Options\n",
    "pd.set_option(\"display.max_columns\", 10)"
   ],
   "metadata": {
    "collapsed": false,
    "pycharm": {
     "name": "#%%\n"
    }
   }
  },
  {
   "cell_type": "code",
   "execution_count": 440,
   "outputs": [
    {
     "data": {
      "text/plain": "   duration protocol_type   service flag  src_bytes  ...  \\\n0         0           tcp  ftp_data   SF        491  ...   \n1         0           udp     other   SF        146  ...   \n2         0           tcp   private   S0          0  ...   \n\n   dst_host_srv_serror_rate  dst_host_rerror_rate  dst_host_srv_rerror_rate  \\\n0                       0.0                  0.05                       0.0   \n1                       0.0                  0.00                       0.0   \n2                       1.0                  0.00                       0.0   \n\n   attack_type  level  \n0       normal     20  \n1       normal     15  \n2      neptune     19  \n\n[3 rows x 43 columns]",
      "text/html": "<div>\n<style scoped>\n    .dataframe tbody tr th:only-of-type {\n        vertical-align: middle;\n    }\n\n    .dataframe tbody tr th {\n        vertical-align: top;\n    }\n\n    .dataframe thead th {\n        text-align: right;\n    }\n</style>\n<table border=\"1\" class=\"dataframe\">\n  <thead>\n    <tr style=\"text-align: right;\">\n      <th></th>\n      <th>duration</th>\n      <th>protocol_type</th>\n      <th>service</th>\n      <th>flag</th>\n      <th>src_bytes</th>\n      <th>...</th>\n      <th>dst_host_srv_serror_rate</th>\n      <th>dst_host_rerror_rate</th>\n      <th>dst_host_srv_rerror_rate</th>\n      <th>attack_type</th>\n      <th>level</th>\n    </tr>\n  </thead>\n  <tbody>\n    <tr>\n      <th>0</th>\n      <td>0</td>\n      <td>tcp</td>\n      <td>ftp_data</td>\n      <td>SF</td>\n      <td>491</td>\n      <td>...</td>\n      <td>0.0</td>\n      <td>0.05</td>\n      <td>0.0</td>\n      <td>normal</td>\n      <td>20</td>\n    </tr>\n    <tr>\n      <th>1</th>\n      <td>0</td>\n      <td>udp</td>\n      <td>other</td>\n      <td>SF</td>\n      <td>146</td>\n      <td>...</td>\n      <td>0.0</td>\n      <td>0.00</td>\n      <td>0.0</td>\n      <td>normal</td>\n      <td>15</td>\n    </tr>\n    <tr>\n      <th>2</th>\n      <td>0</td>\n      <td>tcp</td>\n      <td>private</td>\n      <td>S0</td>\n      <td>0</td>\n      <td>...</td>\n      <td>1.0</td>\n      <td>0.00</td>\n      <td>0.0</td>\n      <td>neptune</td>\n      <td>19</td>\n    </tr>\n  </tbody>\n</table>\n<p>3 rows × 43 columns</p>\n</div>"
     },
     "execution_count": 440,
     "metadata": {},
     "output_type": "execute_result"
    }
   ],
   "source": [
    "colnames = ['duration', 'protocol_type', 'service', 'flag', 'src_bytes', 'dst_bytes', 'land',\n",
    "            'wrong_fragment', 'urgent', 'hot', 'num_failed_logins', 'logged_in', 'num_compromised',\n",
    "            'root_shell', 'su_attempted', 'num_root', 'num_file_creations', 'num_shells', 'num_access_files',\n",
    "            'num_outbound_cmds', 'is_host_login', 'is_guest_login', 'count', 'srv_count', 'serror_rate',\n",
    "            'srv_serror_rate', 'rerror_rate', 'srv_rerror_rate', 'same_srv_rate', 'diff_srv_rate',\n",
    "            'srv_diff_host_rate', 'dst_host_count', 'dst_host_srv_count', 'dst_host_same_srv_rate',\n",
    "            'dst_host_diff_srv_rate', 'dst_host_same_src_port_rate', 'dst_host_srv_diff_host_rate',\n",
    "            'dst_host_serror_rate', 'dst_host_srv_serror_rate', 'dst_host_rerror_rate',\n",
    "            'dst_host_srv_rerror_rate', 'attack_type', 'level']\n",
    "train_df = pd.read_csv(\"Data/KDDTrain+.txt\", names=colnames, sep=\",\")\n",
    "test_df = pd.read_csv(\"Data/KDDTest+.txt\", names=colnames, sep=\",\")\n",
    "\n",
    "# display DataFrame\n",
    "train_df.head(3)"
   ],
   "metadata": {
    "collapsed": false,
    "pycharm": {
     "name": "#%%\n"
    }
   }
  },
  {
   "cell_type": "code",
   "execution_count": 441,
   "outputs": [],
   "source": [
    "# Create an attack flag\n",
    "# map normal to 0, all attacks to 1\n",
    "is_attack_train = train_df.attack_type.map(lambda a: 0 if a == 'normal' else 1)\n",
    "is_attack_test = test_df.attack_type.map(lambda a: 0 if a == 'normal' else 1)\n",
    "\n",
    "#data_with_attack = df.join(is_attack, rsuffix='_flag')\n",
    "train_df['attack_flag'] = is_attack_train\n",
    "test_df['attack_flag'] = is_attack_test"
   ],
   "metadata": {
    "collapsed": false,
    "pycharm": {
     "name": "#%%\n"
    }
   }
  },
  {
   "cell_type": "code",
   "execution_count": 442,
   "outputs": [
    {
     "data": {
      "text/plain": "       duration protocol_type   service  flag  src_bytes  ...  \\\n0             0           tcp   private   REJ          0  ...   \n1             0           tcp   private   REJ          0  ...   \n2             2           tcp  ftp_data    SF      12983  ...   \n3             0          icmp     eco_i    SF         20  ...   \n4             1           tcp    telnet  RSTO          0  ...   \n...         ...           ...       ...   ...        ...  ...   \n22539         0           tcp      smtp    SF        794  ...   \n22540         0           tcp      http    SF        317  ...   \n22541         0           tcp      http    SF      54540  ...   \n22542         0           udp  domain_u    SF         42  ...   \n22543         0           tcp    sunrpc   REJ          0  ...   \n\n       dst_host_srv_rerror_rate  attack_type  level  attack_flag  attack_map  \n0                          1.00      neptune     21            1           1  \n1                          1.00      neptune     21            1           1  \n2                          0.00       normal     21            0           0  \n3                          0.00        saint     15            1           2  \n4                          0.71        mscan     11            1           2  \n...                         ...          ...    ...          ...         ...  \n22539                      0.00       normal     21            0           0  \n22540                      0.00       normal     21            0           0  \n22541                      0.07         back     15            1           1  \n22542                      0.00       normal     21            0           0  \n22543                      1.00        mscan     14            1           2  \n\n[22544 rows x 45 columns]",
      "text/html": "<div>\n<style scoped>\n    .dataframe tbody tr th:only-of-type {\n        vertical-align: middle;\n    }\n\n    .dataframe tbody tr th {\n        vertical-align: top;\n    }\n\n    .dataframe thead th {\n        text-align: right;\n    }\n</style>\n<table border=\"1\" class=\"dataframe\">\n  <thead>\n    <tr style=\"text-align: right;\">\n      <th></th>\n      <th>duration</th>\n      <th>protocol_type</th>\n      <th>service</th>\n      <th>flag</th>\n      <th>src_bytes</th>\n      <th>...</th>\n      <th>dst_host_srv_rerror_rate</th>\n      <th>attack_type</th>\n      <th>level</th>\n      <th>attack_flag</th>\n      <th>attack_map</th>\n    </tr>\n  </thead>\n  <tbody>\n    <tr>\n      <th>0</th>\n      <td>0</td>\n      <td>tcp</td>\n      <td>private</td>\n      <td>REJ</td>\n      <td>0</td>\n      <td>...</td>\n      <td>1.00</td>\n      <td>neptune</td>\n      <td>21</td>\n      <td>1</td>\n      <td>1</td>\n    </tr>\n    <tr>\n      <th>1</th>\n      <td>0</td>\n      <td>tcp</td>\n      <td>private</td>\n      <td>REJ</td>\n      <td>0</td>\n      <td>...</td>\n      <td>1.00</td>\n      <td>neptune</td>\n      <td>21</td>\n      <td>1</td>\n      <td>1</td>\n    </tr>\n    <tr>\n      <th>2</th>\n      <td>2</td>\n      <td>tcp</td>\n      <td>ftp_data</td>\n      <td>SF</td>\n      <td>12983</td>\n      <td>...</td>\n      <td>0.00</td>\n      <td>normal</td>\n      <td>21</td>\n      <td>0</td>\n      <td>0</td>\n    </tr>\n    <tr>\n      <th>3</th>\n      <td>0</td>\n      <td>icmp</td>\n      <td>eco_i</td>\n      <td>SF</td>\n      <td>20</td>\n      <td>...</td>\n      <td>0.00</td>\n      <td>saint</td>\n      <td>15</td>\n      <td>1</td>\n      <td>2</td>\n    </tr>\n    <tr>\n      <th>4</th>\n      <td>1</td>\n      <td>tcp</td>\n      <td>telnet</td>\n      <td>RSTO</td>\n      <td>0</td>\n      <td>...</td>\n      <td>0.71</td>\n      <td>mscan</td>\n      <td>11</td>\n      <td>1</td>\n      <td>2</td>\n    </tr>\n    <tr>\n      <th>...</th>\n      <td>...</td>\n      <td>...</td>\n      <td>...</td>\n      <td>...</td>\n      <td>...</td>\n      <td>...</td>\n      <td>...</td>\n      <td>...</td>\n      <td>...</td>\n      <td>...</td>\n      <td>...</td>\n    </tr>\n    <tr>\n      <th>22539</th>\n      <td>0</td>\n      <td>tcp</td>\n      <td>smtp</td>\n      <td>SF</td>\n      <td>794</td>\n      <td>...</td>\n      <td>0.00</td>\n      <td>normal</td>\n      <td>21</td>\n      <td>0</td>\n      <td>0</td>\n    </tr>\n    <tr>\n      <th>22540</th>\n      <td>0</td>\n      <td>tcp</td>\n      <td>http</td>\n      <td>SF</td>\n      <td>317</td>\n      <td>...</td>\n      <td>0.00</td>\n      <td>normal</td>\n      <td>21</td>\n      <td>0</td>\n      <td>0</td>\n    </tr>\n    <tr>\n      <th>22541</th>\n      <td>0</td>\n      <td>tcp</td>\n      <td>http</td>\n      <td>SF</td>\n      <td>54540</td>\n      <td>...</td>\n      <td>0.07</td>\n      <td>back</td>\n      <td>15</td>\n      <td>1</td>\n      <td>1</td>\n    </tr>\n    <tr>\n      <th>22542</th>\n      <td>0</td>\n      <td>udp</td>\n      <td>domain_u</td>\n      <td>SF</td>\n      <td>42</td>\n      <td>...</td>\n      <td>0.00</td>\n      <td>normal</td>\n      <td>21</td>\n      <td>0</td>\n      <td>0</td>\n    </tr>\n    <tr>\n      <th>22543</th>\n      <td>0</td>\n      <td>tcp</td>\n      <td>sunrpc</td>\n      <td>REJ</td>\n      <td>0</td>\n      <td>...</td>\n      <td>1.00</td>\n      <td>mscan</td>\n      <td>14</td>\n      <td>1</td>\n      <td>2</td>\n    </tr>\n  </tbody>\n</table>\n<p>22544 rows × 45 columns</p>\n</div>"
     },
     "execution_count": 442,
     "metadata": {},
     "output_type": "execute_result"
    }
   ],
   "source": [
    "# lists to hold our attack classifications\n",
    "dos_attacks = ['apache2','back','land','neptune','mailbomb','pod','processtable','smurf','teardrop','udpstorm','worm']\n",
    "probe_attacks = ['ipsweep','mscan','nmap','portsweep','saint','satan']\n",
    "privilege_attacks = ['buffer_overflow','loadmdoule','perl','ps','rootkit','sqlattack','xterm']\n",
    "access_attacks = ['ftp_write','guess_passwd','http_tunnel','imap','multihop','named','phf','sendmail','snmpgetattack','snmpguess','spy','warezclient','warezmaster','xclock','xsnoop']\n",
    "\n",
    "# we will use these for plotting below\n",
    "attack_labels = ['Normal','DoS','Probe','Privilege','Access']\n",
    "\n",
    "# helper function to pass to data frame mapping\n",
    "def map_attack(attack):\n",
    "    if attack in dos_attacks:\n",
    "        # dos_attacks map to 1\n",
    "        attack_type = 1\n",
    "    elif attack in probe_attacks:\n",
    "        # probe_attacks mapt to 2\n",
    "        attack_type = 2\n",
    "    elif attack in privilege_attacks:\n",
    "        # privilege escalation attacks map to 3\n",
    "        attack_type = 3\n",
    "    elif attack in access_attacks:\n",
    "        # remote access attacks map to 4\n",
    "        attack_type = 4\n",
    "    else:\n",
    "        # normal maps to 0\n",
    "        attack_type = 0\n",
    "\n",
    "    return attack_type\n",
    "\n",
    "# map the data and join to the data set\n",
    "attack_map = train_df.attack_type.apply(map_attack)\n",
    "train_df['attack_map'] = attack_map\n",
    "\n",
    "test_attack_map = test_df.attack_type.apply(map_attack)\n",
    "test_df['attack_map'] = test_attack_map\n",
    "\n",
    "# view the result\n",
    "test_df"
   ],
   "metadata": {
    "collapsed": false,
    "pycharm": {
     "name": "#%%\n"
    }
   }
  },
  {
   "cell_type": "code",
   "execution_count": 443,
   "outputs": [],
   "source": [
    "onehot_features = ['protocol_type', 'service', 'flag']\n",
    "other_features = ['duration', 'src_bytes', 'dst_bytes', 'land',\n",
    "            'wrong_fragment', 'urgent', 'hot', 'num_failed_logins', 'logged_in', 'num_compromised',\n",
    "            'root_shell', 'su_attempted', 'num_root', 'num_file_creations', 'num_shells', 'num_access_files',\n",
    "            'num_outbound_cmds', 'is_host_login', 'is_guest_login', 'count', 'srv_count', 'serror_rate',\n",
    "            'srv_serror_rate', 'rerror_rate', 'srv_rerror_rate', 'same_srv_rate', 'diff_srv_rate',\n",
    "            'srv_diff_host_rate', 'dst_host_count', 'dst_host_srv_count', 'dst_host_same_srv_rate',\n",
    "            'dst_host_diff_srv_rate', 'dst_host_same_src_port_rate', 'dst_host_srv_diff_host_rate',\n",
    "            'dst_host_serror_rate', 'dst_host_srv_serror_rate', 'dst_host_rerror_rate',\n",
    "            'dst_host_srv_rerror_rate', 'level']\n",
    "train_onehot = pd.get_dummies(train_df[onehot_features])\n",
    "test_onehot = pd.get_dummies(test_df[onehot_features])\n",
    "\n",
    "test_index = np.arange(len(test_df.index))\n",
    "column_diffs = list(set(train_onehot.columns.values)-set(test_onehot.columns.values))\n",
    "diff_df = pd.DataFrame(0, index=test_index, columns=column_diffs)\n",
    "column_order = train_onehot.columns.to_list()\n",
    "test_temp = test_onehot.join(diff_df)\n",
    "test_final = test_temp[column_order].fillna(0)\n",
    "\n",
    "test_set = test_final.join(test_df[other_features])\n",
    "train_set = train_onehot.join(train_df[other_features])\n",
    "\n",
    "train_set_norm = train_set.apply(lambda x: (x - x.min()) / (x.max() - x.min()))\n",
    "test_set_norm = test_set.apply(lambda x: (x - x.min()) / (x.max() - x.min()))\n",
    "train_set_norm = train_set_norm.fillna(0)\n",
    "test_set_norm = test_set_norm.fillna(0)\n",
    "num_inputs = len(train_set.columns.to_list())\n",
    "num_outputs_multi = len(attack_labels)"
   ],
   "metadata": {
    "collapsed": false,
    "pycharm": {
     "name": "#%%\n"
    }
   }
  },
  {
   "cell_type": "code",
   "execution_count": 458,
   "outputs": [],
   "source": [
    "batch_size = 64\n",
    "# make data into tensors\n",
    "train_set = tf.convert_to_tensor(train_set_norm)\n",
    "test_set = tf.convert_to_tensor(test_set_norm)\n",
    "# train labels (sparse)\n",
    "train_multi_y = tf.convert_to_tensor(train_df['attack_map'].to_list())\n",
    "train_binary_y = tf.convert_to_tensor(train_df['attack_flag'])\n",
    "# test labels (sparse)\n",
    "test_binary_y = tf.convert_to_tensor(test_df['attack_flag'])\n",
    "test_multi_y = tf.convert_to_tensor(test_df['attack_map'].to_list())\n",
    "# create tensorflow dataset for test and train\n",
    "training_binary = tf.data.Dataset.from_tensor_slices((train_set, train_binary_y)).batch(batch_size)\n",
    "training_multi = tf.data.Dataset.from_tensor_slices((train_set, train_multi_y)).batch(batch_size)\n",
    "test_binary = tf.data.Dataset.from_tensor_slices((test_set, test_binary_y)).batch(batch_size)\n",
    "test_multi = tf.data.Dataset.from_tensor_slices((test_set, test_multi_y)).batch(batch_size)"
   ],
   "metadata": {
    "collapsed": false,
    "pycharm": {
     "name": "#%%\n"
    }
   }
  },
  {
   "cell_type": "code",
   "execution_count": 445,
   "outputs": [],
   "source": [
    "# binary classification model\n",
    "binary_model = tf.keras.Sequential()\n",
    "binary_model.add(tf.keras.layers.Dense(128, activation='relu', input_shape=(num_inputs,)))\n",
    "binary_model.add(tf.keras.layers.Dense(256, activation='relu'))\n",
    "binary_model.add(tf.keras.layers.Dense(128, activation='relu'))\n",
    "binary_model.add(tf.keras.layers.Dense(64, activation='relu'))\n",
    "binary_model.add(tf.keras.layers.Dense(10, activation='relu'))\n",
    "binary_model.add(tf.keras.layers.Dense(1, activation='sigmoid'))"
   ],
   "metadata": {
    "collapsed": false,
    "pycharm": {
     "name": "#%%\n"
    }
   }
  },
  {
   "cell_type": "code",
   "execution_count": 446,
   "outputs": [],
   "source": [
    "# multi classification model\n",
    "multi_model = tf.keras.Sequential()\n",
    "multi_model.add(tf.keras.layers.Dense(128, activation='relu', input_shape=(num_inputs,)))\n",
    "multi_model.add(tf.keras.layers.Dense(256, activation='relu'))\n",
    "multi_model.add(tf.keras.layers.Dense(128, activation='relu'))\n",
    "multi_model.add(tf.keras.layers.Dense(64, activation='relu'))\n",
    "multi_model.add(tf.keras.layers.Dense(10, activation='relu'))\n",
    "multi_model.add(tf.keras.layers.Dense(num_outputs_multi, activation='softmax'))"
   ],
   "metadata": {
    "collapsed": false,
    "pycharm": {
     "name": "#%%\n"
    }
   }
  },
  {
   "cell_type": "code",
   "execution_count": 447,
   "outputs": [],
   "source": [
    "def scheduler(epoch, lr):\n",
    "  if epoch < 1:\n",
    "    return lr\n",
    "  else:\n",
    "    return lr * tf.math.exp(-0.1)"
   ],
   "metadata": {
    "collapsed": false,
    "pycharm": {
     "name": "#%%\n"
    }
   }
  },
  {
   "cell_type": "code",
   "execution_count": 455,
   "outputs": [],
   "source": [
    "opt = tf.keras.optimizers.Adam(learning_rate=0.01)\n",
    "callback = tf.keras.callbacks.LearningRateScheduler(scheduler)\n",
    "binary_model.compile(optimizer=opt, loss='binary_crossentropy', metrics=['accuracy'])"
   ],
   "metadata": {
    "collapsed": false,
    "pycharm": {
     "name": "#%%\n"
    }
   }
  },
  {
   "cell_type": "code",
   "execution_count": 456,
   "outputs": [
    {
     "name": "stdout",
     "output_type": "stream",
     "text": [
      "Epoch 1/10\n",
      "1969/1969 [==============================] - 4s 2ms/step - loss: 0.0140 - accuracy: 0.9968 - lr: 0.0100\n",
      "Epoch 2/10\n",
      "1969/1969 [==============================] - 4s 2ms/step - loss: 0.0091 - accuracy: 0.9972 - lr: 0.0090\n",
      "Epoch 3/10\n",
      "1969/1969 [==============================] - 4s 2ms/step - loss: 0.0255 - accuracy: 0.9975 - lr: 0.0082\n",
      "Epoch 4/10\n",
      "1969/1969 [==============================] - 3s 2ms/step - loss: 0.0062 - accuracy: 0.9979 - lr: 0.0074\n",
      "Epoch 5/10\n",
      "1969/1969 [==============================] - 4s 2ms/step - loss: 0.0053 - accuracy: 0.9982 - lr: 0.0067\n",
      "Epoch 6/10\n",
      "1969/1969 [==============================] - 4s 2ms/step - loss: 0.0044 - accuracy: 0.9986 - lr: 0.0061\n",
      "Epoch 7/10\n",
      "1969/1969 [==============================] - 4s 2ms/step - loss: 0.0039 - accuracy: 0.9987 - lr: 0.0055\n",
      "Epoch 8/10\n",
      "1969/1969 [==============================] - 4s 2ms/step - loss: 0.0113 - accuracy: 0.9982 - lr: 0.0050\n",
      "Epoch 9/10\n",
      "1969/1969 [==============================] - 4s 2ms/step - loss: 0.0038 - accuracy: 0.9989 - lr: 0.0045\n",
      "Epoch 10/10\n",
      "1969/1969 [==============================] - 5s 2ms/step - loss: 0.0032 - accuracy: 0.9989 - lr: 0.0041\n"
     ]
    },
    {
     "data": {
      "text/plain": "<keras.callbacks.History at 0x1709ef430>"
     },
     "execution_count": 456,
     "metadata": {},
     "output_type": "execute_result"
    }
   ],
   "source": [
    "binary_model.fit(training_binary, epochs=10, callbacks=[callback])"
   ],
   "metadata": {
    "collapsed": false,
    "pycharm": {
     "name": "#%%\n"
    }
   }
  },
  {
   "cell_type": "code",
   "execution_count": null,
   "outputs": [],
   "source": [
    "binary_model.evaluate(test_binary)"
   ],
   "metadata": {
    "collapsed": false,
    "pycharm": {
     "name": "#%%\n"
    }
   }
  },
  {
   "cell_type": "code",
   "execution_count": 452,
   "outputs": [],
   "source": [
    "opt = tf.keras.optimizers.Adam(learning_rate=0.01)\n",
    "callback = tf.keras.callbacks.LearningRateScheduler(scheduler)\n",
    "multi_model.compile(optimizer=opt, loss='sparse_categorical_crossentropy', metrics=['accuracy'])"
   ],
   "metadata": {
    "collapsed": false,
    "pycharm": {
     "name": "#%%\n"
    }
   }
  },
  {
   "cell_type": "code",
   "execution_count": 453,
   "outputs": [
    {
     "name": "stdout",
     "output_type": "stream",
     "text": [
      "Epoch 1/10\n",
      "1969/1969 [==============================] - 4s 2ms/step - loss: 0.1100 - accuracy: 0.9773 - lr: 0.0100\n",
      "Epoch 2/10\n",
      "1969/1969 [==============================] - 4s 2ms/step - loss: 0.0274 - accuracy: 0.9930 - lr: 0.0090\n",
      "Epoch 3/10\n",
      "1969/1969 [==============================] - 3s 2ms/step - loss: 0.0204 - accuracy: 0.9940 - lr: 0.0082\n",
      "Epoch 4/10\n",
      "1969/1969 [==============================] - 4s 2ms/step - loss: 0.0148 - accuracy: 0.9955 - lr: 0.0074\n",
      "Epoch 5/10\n",
      "1969/1969 [==============================] - 3s 2ms/step - loss: 0.0173 - accuracy: 0.9951 - lr: 0.0067\n",
      "Epoch 6/10\n",
      "1969/1969 [==============================] - 3s 2ms/step - loss: 0.0123 - accuracy: 0.9968 - lr: 0.0061\n",
      "Epoch 7/10\n",
      "1969/1969 [==============================] - 3s 2ms/step - loss: 0.0092 - accuracy: 0.9974 - lr: 0.0055\n",
      "Epoch 8/10\n",
      "1969/1969 [==============================] - 3s 2ms/step - loss: 0.0102 - accuracy: 0.9972 - lr: 0.0050\n",
      "Epoch 9/10\n",
      "1969/1969 [==============================] - 3s 2ms/step - loss: 0.0078 - accuracy: 0.9977 - lr: 0.0045\n",
      "Epoch 10/10\n",
      "1969/1969 [==============================] - 3s 2ms/step - loss: 0.0071 - accuracy: 0.9978 - lr: 0.0041\n"
     ]
    },
    {
     "data": {
      "text/plain": "<keras.callbacks.History at 0x159bae260>"
     },
     "execution_count": 453,
     "metadata": {},
     "output_type": "execute_result"
    }
   ],
   "source": [
    "multi_model.fit(training_multi, epochs=10, callbacks=[callback])"
   ],
   "metadata": {
    "collapsed": false,
    "pycharm": {
     "name": "#%%\n"
    }
   }
  },
  {
   "cell_type": "code",
   "execution_count": 457,
   "outputs": [
    {
     "name": "stdout",
     "output_type": "stream",
     "text": [
      "353/353 [==============================] - 1s 2ms/step - loss: 8.1600 - accuracy: 0.7831\n"
     ]
    },
    {
     "data": {
      "text/plain": "[8.15997314453125, 0.783135175704956]"
     },
     "execution_count": 457,
     "metadata": {},
     "output_type": "execute_result"
    }
   ],
   "source": [
    "multi_model.evaluate(test_multi)"
   ],
   "metadata": {
    "collapsed": false,
    "pycharm": {
     "name": "#%%\n"
    }
   }
  },
  {
   "cell_type": "code",
   "execution_count": null,
   "outputs": [],
   "source": [],
   "metadata": {
    "collapsed": false,
    "pycharm": {
     "name": "#%%\n"
    }
   }
  }
 ],
 "metadata": {
  "kernelspec": {
   "display_name": "Python 3",
   "language": "python",
   "name": "python3"
  },
  "language_info": {
   "codemirror_mode": {
    "name": "ipython",
    "version": 2
   },
   "file_extension": ".py",
   "mimetype": "text/x-python",
   "name": "python",
   "nbconvert_exporter": "python",
   "pygments_lexer": "ipython2",
   "version": "2.7.6"
  }
 },
 "nbformat": 4,
 "nbformat_minor": 0
}